{
 "cells": [
  {
   "cell_type": "code",
   "execution_count": 1,
   "metadata": {
    "slideshow": {
     "slide_type": "skip"
    }
   },
   "outputs": [],
   "source": [
    "%load_ext autoreload\n",
    "%autoreload 2\n",
    "%matplotlib notebook\n",
    "\n",
    "import numpy as np"
   ]
  },
  {
   "cell_type": "markdown",
   "metadata": {
    "slideshow": {
     "slide_type": "slide"
    }
   },
   "source": [
    "# Implementing a solver for the advection equation"
   ]
  },
  {
   "cell_type": "markdown",
   "metadata": {
    "slideshow": {
     "slide_type": "fragment"
    }
   },
   "source": [
    "We're going to write all the necessary objects to solve the following equation:\n",
    "\n",
    "\\begin{equation}\n",
    "    \\partial_t \\varphi + \\mathbf{u} \\cdot \\nabla \\varphi = 0\n",
    "\\end{equation}"
   ]
  },
  {
   "cell_type": "markdown",
   "metadata": {
    "slideshow": {
     "slide_type": "fragment"
    }
   },
   "source": [
    "That, compared to our generalized model:\n",
    "\\begin{equation}\n",
    "    \\partial_t \\mathbf{q} + \n",
    "    \\nabla \\cdot \\left(\\underline{\\underline{\\mathbf{F}}}(\\mathbf{q}) \n",
    "        + \\underline{\\underline{\\underline{\\underline{D(\\mathbf{q})}}}} \\cdot \\nabla \\mathbf{q} \\right) +\n",
    "    \\underline{\\underline{\\underline{\\mathbf{B}(\\mathbf{q})}}} \\cdot \\nabla\\mathbf{q} = \n",
    "    \\mathbf{s}(\\mathbf{q})\n",
    "\\end{equation}"
   ]
  },
  {
   "cell_type": "markdown",
   "metadata": {
    "slideshow": {
     "slide_type": "fragment"
    }
   },
   "source": [
    "Gives $\\mathbf{q} = \\left\\{\\varphi\\right\\}$\n",
    "$\\mathbf{F} = \\underline{\\underline{\\mathbf{0}}}$, \n",
    "$\\mathbf{D} = \\underline{\\underline{\\underline{\\underline{\\mathbf{0}}}}}$"
   ]
  },
  {
   "cell_type": "markdown",
   "metadata": {
    "slideshow": {
     "slide_type": "subslide"
    }
   },
   "source": [
    "So our problem needs just to provide $\\mathbf{B}$.\n",
    "\\begin{equation}\n",
    "    B_{pqr} = u_r\n",
    "\\end{equation}"
   ]
  },
  {
   "cell_type": "markdown",
   "metadata": {
    "slideshow": {
     "slide_type": "slide"
    }
   },
   "source": [
    "## `State`"
   ]
  },
  {
   "cell_type": "code",
   "execution_count": 2,
   "metadata": {},
   "outputs": [],
   "source": [
    "from josie.state import State\n",
    "from josie.fields import Fields\n",
    "\n",
    "class AdvectionFields(Fields):\n",
    "    phi = 0\n",
    "    \n",
    "class AdvectionState(State):\n",
    "    fields = AdvectionFields"
   ]
  },
  {
   "cell_type": "markdown",
   "metadata": {
    "slideshow": {
     "slide_type": "slide"
    }
   },
   "source": [
    "## `Problem`\n",
    "\n",
    "We just need to implement the $\\mathbf{B}(\\mathbf{q})$ operator"
   ]
  },
  {
   "cell_type": "code",
   "execution_count": 3,
   "metadata": {
    "slideshow": {
     "slide_type": "fragment"
    }
   },
   "outputs": [],
   "source": [
    "from josie.problem import Problem\n",
    "\n",
    "Problem??"
   ]
  },
  {
   "cell_type": "code",
   "execution_count": 4,
   "metadata": {
    "slideshow": {
     "slide_type": "fragment"
    }
   },
   "outputs": [],
   "source": [
    "class AdvectionProblem(Problem):\n",
    "    V = np.array([1, 0])\n",
    "    \n",
    "    DIMENSIONALITY = 2 ## 2D\n",
    "    \n",
    "    def B(self, values: AdvectionState):\n",
    "        values = values.view(AdvectionState)\n",
    "        nx, ny, num_dofs, num_fields = values.shape\n",
    "        fields = values.fields\n",
    "        \n",
    "        B = np.zeros((nx, ny, num_dofs, num_fields, num_fields, self.DIMENSIONALITY))\n",
    "        \n",
    "        B[..., fields.phi, fields.phi, : ] = self.V\n",
    "        \n",
    "        return B"
   ]
  },
  {
   "cell_type": "markdown",
   "metadata": {
    "slideshow": {
     "slide_type": "slide"
    }
   },
   "source": [
    "## `Scheme`\n",
    "![cell_scheme](data:image/svg+xml;base64,PD94bWwgdmVyc2lvbj0iMS4wIiBlbmNvZGluZz0iVVRGLTgiIHN0YW5kYWxvbmU9Im5vIj8+CjxzdmcKICAgeG1sbnM6ZGM9Imh0dHA6Ly9wdXJsLm9yZy9kYy9lbGVtZW50cy8xLjEvIgogICB4bWxuczpjYz0iaHR0cDovL2NyZWF0aXZlY29tbW9ucy5vcmcvbnMjIgogICB4bWxuczpyZGY9Imh0dHA6Ly93d3cudzMub3JnLzE5OTkvMDIvMjItcmRmLXN5bnRheC1ucyMiCiAgIHhtbG5zOnN2Zz0iaHR0cDovL3d3dy53My5vcmcvMjAwMC9zdmciCiAgIHhtbG5zPSJodHRwOi8vd3d3LnczLm9yZy8yMDAwL3N2ZyIKICAgeG1sbnM6c29kaXBvZGk9Imh0dHA6Ly9zb2RpcG9kaS5zb3VyY2Vmb3JnZS5uZXQvRFREL3NvZGlwb2RpLTAuZHRkIgogICB4bWxuczppbmtzY2FwZT0iaHR0cDovL3d3dy5pbmtzY2FwZS5vcmcvbmFtZXNwYWNlcy9pbmtzY2FwZSIKICAgaW5rc2NhcGU6dmVyc2lvbj0iMS4wcmMxICgwOTk2MGQ2LCAyMDIwLTA0LTA5KSIKICAgc29kaXBvZGk6ZG9jbmFtZT0iY2VsbF9zY2hlbWUuc3ZnIgogICB2aWV3Qm94PSIwIDAgMTk3LjMzMzMzIDE0NCIKICAgaGVpZ2h0PSIxNDQiCiAgIHdpZHRoPSIxOTcuMzMzMzMiCiAgIHhtbDpzcGFjZT0icHJlc2VydmUiCiAgIGlkPSJzdmcxMDQwIgogICB2ZXJzaW9uPSIxLjEiPjxtZXRhZGF0YQogICAgIGlkPSJtZXRhZGF0YTEwNDYiPjxyZGY6UkRGPjxjYzpXb3JrCiAgICAgICAgIHJkZjphYm91dD0iIj48ZGM6Zm9ybWF0PmltYWdlL3N2Zyt4bWw8L2RjOmZvcm1hdD48ZGM6dHlwZQogICAgICAgICAgIHJkZjpyZXNvdXJjZT0iaHR0cDovL3B1cmwub3JnL2RjL2RjbWl0eXBlL1N0aWxsSW1hZ2UiIC8+PGRjOnRpdGxlPjwvZGM6dGl0bGU+PC9jYzpXb3JrPjwvcmRmOlJERj48L21ldGFkYXRhPjxkZWZzCiAgICAgaWQ9ImRlZnMxMDQ0IiAvPjxzb2RpcG9kaTpuYW1lZHZpZXcKICAgICBpbmtzY2FwZTpjdXJyZW50LWxheWVyPSJnMTA0OCIKICAgICBpbmtzY2FwZTp3aW5kb3ctbWF4aW1pemVkPSIwIgogICAgIGlua3NjYXBlOndpbmRvdy15PSIyMyIKICAgICBpbmtzY2FwZTp3aW5kb3cteD0iMCIKICAgICBpbmtzY2FwZTpjeT0iNzIiCiAgICAgaW5rc2NhcGU6Y3g9Ijk4LjY2NjY2NCIKICAgICBpbmtzY2FwZTp6b29tPSIzLjYwODEwODIiCiAgICAgc2hvd2dyaWQ9ImZhbHNlIgogICAgIGlkPSJuYW1lZHZpZXcxMDQyIgogICAgIGlua3NjYXBlOndpbmRvdy1oZWlnaHQ9Ijk1MyIKICAgICBpbmtzY2FwZTp3aW5kb3ctd2lkdGg9IjE2ODAiCiAgICAgaW5rc2NhcGU6cGFnZXNoYWRvdz0iMiIKICAgICBpbmtzY2FwZTpwYWdlb3BhY2l0eT0iMCIKICAgICBndWlkZXRvbGVyYW5jZT0iMTAiCiAgICAgZ3JpZHRvbGVyYW5jZT0iMTAiCiAgICAgb2JqZWN0dG9sZXJhbmNlPSIxMCIKICAgICBib3JkZXJvcGFjaXR5PSIxIgogICAgIGJvcmRlcmNvbG9yPSIjNjY2NjY2IgogICAgIHBhZ2Vjb2xvcj0iI2ZmZmZmZiIgLz48ZwogICAgIHRyYW5zZm9ybT0ibWF0cml4KDEuMzMzMzMzMywwLDAsLTEuMzMzMzMzMywwLDE0NCkiCiAgICAgaW5rc2NhcGU6bGFiZWw9Imlua19leHRfWFhYWFhYIgogICAgIGlua3NjYXBlOmdyb3VwbW9kZT0ibGF5ZXIiCiAgICAgaWQ9ImcxMDQ4Ij48ZwogICAgICAgdHJhbnNmb3JtPSJzY2FsZSgwLjEpIgogICAgICAgaWQ9ImcxMDUwIj48cGF0aAogICAgICAgICBpbmtzY2FwZTpjb25uZWN0b3ItY3VydmF0dXJlPSIwIgogICAgICAgICBpZD0icGF0aDEwNTIiCiAgICAgICAgIHN0eWxlPSJmaWxsOm5vbmU7c3Ryb2tlOiMwMDAwMDA7c3Ryb2tlLXdpZHRoOjg7c3Ryb2tlLWxpbmVjYXA6YnV0dDtzdHJva2UtbGluZWpvaW46cm91bmQ7c3Ryb2tlLW1pdGVybGltaXQ6MTA7c3Ryb2tlLWRhc2hhcnJheTpub25lO3N0cm9rZS1vcGFjaXR5OjEiCiAgICAgICAgIGQ9Im0gODAzLjk4LDY0NS43MzggaCA2NDAgViA1LjczODI4IGwgLTQ4MCwxNTkuOTk5NzIgLTE2MCw0ODAiIC8+PHBhdGgKICAgICAgICAgaW5rc2NhcGU6Y29ubmVjdG9yLWN1cnZhdHVyZT0iMCIKICAgICAgICAgaWQ9InBhdGgxMDU0IgogICAgICAgICBzdHlsZT0iZmlsbDpub25lO3N0cm9rZTojMDAwMDAwO3N0cm9rZS13aWR0aDo4O3N0cm9rZS1saW5lY2FwOmJ1dHQ7c3Ryb2tlLWxpbmVqb2luOnJvdW5kO3N0cm9rZS1taXRlcmxpbWl0OjEwO3N0cm9rZS1kYXNoYXJyYXk6bm9uZTtzdHJva2Utb3BhY2l0eToxIgogICAgICAgICBkPSJNIDgwMy45OCw2NDQuMDIgSCAzLjk4MDQ3IEwgMTYzLjk4LDQuMDE5NTMgOTYzLjk4LDE2NC4wMiIgLz48cGF0aAogICAgICAgICBpbmtzY2FwZTpjb25uZWN0b3ItY3VydmF0dXJlPSIwIgogICAgICAgICBpZD0icGF0aDEwNTYiCiAgICAgICAgIHN0eWxlPSJmaWxsOiMwMDAwMDA7ZmlsbC1vcGFjaXR5OjE7ZmlsbC1ydWxlOmV2ZW5vZGQ7c3Ryb2tlOm5vbmUiCiAgICAgICAgIGQ9Im0gNDkwLjU1MSwzNzIuNzcgYyAwLDI0LjAzMSAtMzYuMDIsMjQuMDMxIC0zNi4wMiwwIDAsLTIzLjk4MSAzNi4wMiwtMjMuOTgxIDM2LjAyLDAgeiIgLz48cGF0aAogICAgICAgICBpbmtzY2FwZTpjb25uZWN0b3ItY3VydmF0dXJlPSIwIgogICAgICAgICBpZD0icGF0aDEwNTgiCiAgICAgICAgIHN0eWxlPSJmaWxsOiMwMDAwMDA7ZmlsbC1vcGFjaXR5OjE7ZmlsbC1ydWxlOmV2ZW5vZGQ7c3Ryb2tlOm5vbmUiCiAgICAgICAgIGQ9Im0gMTIwOS4xNCw0MDQuNDQ5IGMgMCwyMy45OTIgLTM2LjAyLDIzLjk5MiAtMzYuMDIsMCAwLC0yNC4wMTkgMzYuMDIsLTI0LjAxOSAzNi4wMiwwIHoiIC8+PHBhdGgKICAgICAgICAgaW5rc2NhcGU6Y29ubmVjdG9yLWN1cnZhdHVyZT0iMCIKICAgICAgICAgaWQ9InBhdGgxMDYwIgogICAgICAgICBzdHlsZT0iZmlsbDpub25lO3N0cm9rZTojMDAwMDAwO3N0cm9rZS13aWR0aDo0O3N0cm9rZS1saW5lY2FwOmJ1dHQ7c3Ryb2tlLWxpbmVqb2luOnJvdW5kO3N0cm9rZS1taXRlcmxpbWl0OjEwO3N0cm9rZS1kYXNoYXJyYXk6bm9uZTtzdHJva2Utb3BhY2l0eToxIgogICAgICAgICBkPSJNIDY4MC4xOTksMzM5LjY0OCAxMDg5LjQ5LDQ5Mi4xOTEiIC8+PHBhdGgKICAgICAgICAgaW5rc2NhcGU6Y29ubmVjdG9yLWN1cnZhdHVyZT0iMCIKICAgICAgICAgaWQ9InBhdGgxMDYyIgogICAgICAgICBzdHlsZT0iZmlsbDojMDAwMDAwO2ZpbGwtb3BhY2l0eToxO2ZpbGwtcnVsZTpldmVub2RkO3N0cm9rZTpub25lIgogICAgICAgICBkPSJtIDEwODkuNDksNDkyLjE5MSAtNzMuNzUsLTIuNjIxIDE2LjI5LC00My42NzIgeiIgLz48cGF0aAogICAgICAgICBpbmtzY2FwZTpjb25uZWN0b3ItY3VydmF0dXJlPSIwIgogICAgICAgICBpZD0icGF0aDEwNjQiCiAgICAgICAgIHN0eWxlPSJmaWxsOm5vbmU7c3Ryb2tlOiMwMDAwMDA7c3Ryb2tlLXdpZHRoOjQ7c3Ryb2tlLWxpbmVjYXA6YnV0dDtzdHJva2UtbGluZWpvaW46cm91bmQ7c3Ryb2tlLW1pdGVybGltaXQ6MTA7c3Ryb2tlLWRhc2hhcnJheTpub25lO3N0cm9rZS1vcGFjaXR5OjEiCiAgICAgICAgIGQ9Im0gMTA4OS40OSw0OTIuMTkxIC03My43NSwtMi42MjEgMTYuMjksLTQzLjY3MiB6IiAvPjxnCiAgICAgICAgIHRyYW5zZm9ybT0ic2NhbGUoMTApIgogICAgICAgICBpZD0iZzEwNjYiPjx0ZXh0CiAgICAgICAgICAgaWQ9InRleHQxMDcwIgogICAgICAgICAgIHN0eWxlPSJmb250LXZhcmlhbnQ6bm9ybWFsO2ZvbnQtc2l6ZTo5Ljk2MjZweDtmb250LWZhbWlseTpmLTA7LWlua3NjYXBlLWZvbnQtc3BlY2lmaWNhdGlvbjpmLTAtMDt3cml0aW5nLW1vZGU6bHItdGI7ZmlsbDojMDAwMDAwO2ZpbGwtb3BhY2l0eToxO2ZpbGwtcnVsZTpub256ZXJvO3N0cm9rZTpub25lIgogICAgICAgICAgIHRyYW5zZm9ybT0ibWF0cml4KDEsMCwwLC0xLDkyLjk5ODQsNDguNjg1MikiPjx0c3BhbgogICAgICAgICAgICAgaWQ9InRzcGFuMTA2OCIKICAgICAgICAgICAgIHk9IjAiCiAgICAgICAgICAgICB4PSIwIj7LhjwvdHNwYW4+PC90ZXh0Pjx0ZXh0CiAgICAgICAgICAgaWQ9InRleHQxMDc0IgogICAgICAgICAgIHN0eWxlPSJmb250LXZhcmlhbnQ6bm9ybWFsO2ZvbnQtc2l6ZTo5Ljk2MjZweDtmb250LWZhbWlseTpmLTE7LWlua3NjYXBlLWZvbnQtc3BlY2lmaWNhdGlvbjpmLTEtMDt3cml0aW5nLW1vZGU6bHItdGI7ZmlsbDojMDAwMDAwO2ZpbGwtb3BhY2l0eToxO2ZpbGwtcnVsZTpub256ZXJvO3N0cm9rZTpub25lIgogICAgICAgICAgIHRyYW5zZm9ybT0ibWF0cml4KDEsMCwwLC0xLDkyLjMwNjIxMiw0OC41NDY5MTkpIj48dHNwYW4KICAgICAgICAgICAgIGlkPSJ0c3BhbjEwNzIiCiAgICAgICAgICAgICB5PSIwIgogICAgICAgICAgICAgeD0iMCI+bjwvdHNwYW4+PC90ZXh0PjwvZz48cGF0aAogICAgICAgICBpbmtzY2FwZTpjb25uZWN0b3ItY3VydmF0dXJlPSIwIgogICAgICAgICBpZD0icGF0aDEwNzYiCiAgICAgICAgIHN0eWxlPSJmaWxsOm5vbmU7c3Ryb2tlOiMwMDAwMDA7c3Ryb2tlLXdpZHRoOjIwO3N0cm9rZS1saW5lY2FwOmJ1dHQ7c3Ryb2tlLWxpbmVqb2luOnJvdW5kO3N0cm9rZS1taXRlcmxpbWl0OjEwO3N0cm9rZS1kYXNoYXJyYXk6bm9uZTtzdHJva2Utb3BhY2l0eToxIgogICAgICAgICBkPSJtIDgwMy45OCw2NDQuMDIgMTYwLC00ODAiIC8+PGcKICAgICAgICAgdHJhbnNmb3JtPSJzY2FsZSgxMCkiCiAgICAgICAgIGlkPSJnMTA3OCI+PHRleHQKICAgICAgICAgICBpZD0idGV4dDEwODIiCiAgICAgICAgICAgc3R5bGU9ImZvbnQtdmFyaWFudDpub3JtYWw7Zm9udC1zaXplOjkuOTYyNnB4O2ZvbnQtZmFtaWx5OmYtMjstaW5rc2NhcGUtZm9udC1zcGVjaWZpY2F0aW9uOmYtMi0wO3dyaXRpbmctbW9kZTpsci10YjtmaWxsOiMwMDAwMDA7ZmlsbC1vcGFjaXR5OjE7ZmlsbC1ydWxlOm5vbnplcm87c3Ryb2tlOm5vbmUiCiAgICAgICAgICAgdHJhbnNmb3JtPSJtYXRyaXgoMSwwLDAsLTEsOTUuNjY0NSwzMC42ODc5KSI+PHRzcGFuCiAgICAgICAgICAgICBpZD0idHNwYW4xMDgwIgogICAgICAgICAgICAgeT0iMCIKICAgICAgICAgICAgIHg9IjAiPlM8L3RzcGFuPjwvdGV4dD48dGV4dAogICAgICAgICAgIGlkPSJ0ZXh0MTA4NiIKICAgICAgICAgICBzdHlsZT0iZm9udC12YXJpYW50Om5vcm1hbDtmb250LXNpemU6Ni45NzM4cHg7Zm9udC1mYW1pbHk6Zi0zOy1pbmtzY2FwZS1mb250LXNwZWNpZmljYXRpb246Zi0zLTA7d3JpdGluZy1tb2RlOmxyLXRiO2ZpbGw6IzAwMDAwMDtmaWxsLW9wYWNpdHk6MTtmaWxsLXJ1bGU6bm9uemVybztzdHJva2U6bm9uZSIKICAgICAgICAgICB0cmFuc2Zvcm09Im1hdHJpeCgxLDAsMCwtMSwxMDEuNzczNDgsMjkuMTkzNzYpIj48dHNwYW4KICAgICAgICAgICAgIGlkPSJ0c3BhbjEwODQiCiAgICAgICAgICAgICB5PSIwIgogICAgICAgICAgICAgeD0iMCI+ZjwvdHNwYW4+PC90ZXh0PjwvZz48cGF0aAogICAgICAgICBpbmtzY2FwZTpjb25uZWN0b3ItY3VydmF0dXJlPSIwIgogICAgICAgICBpZD0icGF0aDEwODgiCiAgICAgICAgIHN0eWxlPSJmaWxsOm5vbmU7c3Ryb2tlOiMwMDAwMDA7c3Ryb2tlLXdpZHRoOjQ7c3Ryb2tlLWxpbmVjYXA6YnV0dDtzdHJva2UtbGluZWpvaW46cm91bmQ7c3Ryb2tlLW1pdGVybGltaXQ6MTA7c3Ryb2tlLWRhc2hhcnJheTpub25lO3N0cm9rZS1vcGFjaXR5OjEiCiAgICAgICAgIGQ9Ik0gNDc0LjIxOSwzNzIuNzcgMzY1LjM1Miw4OTAuODk4IiAvPjxwYXRoCiAgICAgICAgIGlua3NjYXBlOmNvbm5lY3Rvci1jdXJ2YXR1cmU9IjAiCiAgICAgICAgIGlkPSJwYXRoMTA5MCIKICAgICAgICAgc3R5bGU9ImZpbGw6IzAwMDAwMDtmaWxsLW9wYWNpdHk6MTtmaWxsLXJ1bGU6ZXZlbm9kZDtzdHJva2U6bm9uZSIKICAgICAgICAgZD0ibSA0NzQuMjE5LDM3Mi43NyA4LjQwMiw3My4zMiAtNDUuNjMzLC05LjYxIHoiIC8+PHBhdGgKICAgICAgICAgaW5rc2NhcGU6Y29ubmVjdG9yLWN1cnZhdHVyZT0iMCIKICAgICAgICAgaWQ9InBhdGgxMDkyIgogICAgICAgICBzdHlsZT0iZmlsbDpub25lO3N0cm9rZTojMDAwMDAwO3N0cm9rZS13aWR0aDo0O3N0cm9rZS1saW5lY2FwOmJ1dHQ7c3Ryb2tlLWxpbmVqb2luOnJvdW5kO3N0cm9rZS1taXRlcmxpbWl0OjEwO3N0cm9rZS1kYXNoYXJyYXk6bm9uZTtzdHJva2Utb3BhY2l0eToxIgogICAgICAgICBkPSJtIDQ3NC4yMTksMzcyLjc3IDguNDAyLDczLjMyIC00NS42MzMsLTkuNjEgeiIgLz48ZwogICAgICAgICB0cmFuc2Zvcm09InNjYWxlKDEwKSIKICAgICAgICAgaWQ9ImcxMDk0Ij48dGV4dAogICAgICAgICAgIGlkPSJ0ZXh0MTA5OCIKICAgICAgICAgICBzdHlsZT0iZm9udC12YXJpYW50Om5vcm1hbDtmb250LXNpemU6OS45NjI2cHg7Zm9udC1mYW1pbHk6Zi00Oy1pbmtzY2FwZS1mb250LXNwZWNpZmljYXRpb246Zi00LTA7d3JpdGluZy1tb2RlOmxyLXRiO2ZpbGw6IzAwMDAwMDtmaWxsLW9wYWNpdHk6MTtmaWxsLXJ1bGU6bm9uemVybztzdHJva2U6bm9uZSIKICAgICAgICAgICB0cmFuc2Zvcm09Im1hdHJpeCgxLDAsMCwtMSwyNC4xODc5LDkwLjA3NDYpIj48dHNwYW4KICAgICAgICAgICAgIGlkPSJ0c3BhbjEwOTYiCiAgICAgICAgICAgICBzb2RpcG9kaTpyb2xlPSJsaW5lIgogICAgICAgICAgICAgeT0iMCIKICAgICAgICAgICAgIHg9IjAgNS4yMzAzNjQ4IDEwLjQ2MDczIDE1LjY5MTA5NSAyMC45MjE0NTkiPnZhbHVlPC90c3Bhbj48L3RleHQ+PC9nPjxwYXRoCiAgICAgICAgIGlua3NjYXBlOmNvbm5lY3Rvci1jdXJ2YXR1cmU9IjAiCiAgICAgICAgIGlkPSJwYXRoMTEwMCIKICAgICAgICAgc3R5bGU9ImZpbGw6bm9uZTtzdHJva2U6IzAwMDAwMDtzdHJva2Utd2lkdGg6NDtzdHJva2UtbGluZWNhcDpidXR0O3N0cm9rZS1saW5lam9pbjpyb3VuZDtzdHJva2UtbWl0ZXJsaW1pdDoxMDtzdHJva2UtZGFzaGFycmF5Om5vbmU7c3Ryb2tlLW9wYWNpdHk6MSIKICAgICAgICAgZD0ibSAxMTkxLjEzLDQwNC40NDkgLTMyLjY1LDU0MC42NzIiIC8+PHBhdGgKICAgICAgICAgaW5rc2NhcGU6Y29ubmVjdG9yLWN1cnZhdHVyZT0iMCIKICAgICAgICAgaWQ9InBhdGgxMTAyIgogICAgICAgICBzdHlsZT0iZmlsbDojMDAwMDAwO2ZpbGwtb3BhY2l0eToxO2ZpbGwtcnVsZTpldmVub2RkO3N0cm9rZTpub25lIgogICAgICAgICBkPSJtIDExOTEuMTMsNDA0LjQ0OSAxOS4wNyw3MS4yODkgLTQ2LjU3LC0yLjgwOCB6IiAvPjxwYXRoCiAgICAgICAgIGlua3NjYXBlOmNvbm5lY3Rvci1jdXJ2YXR1cmU9IjAiCiAgICAgICAgIGlkPSJwYXRoMTEwNCIKICAgICAgICAgc3R5bGU9ImZpbGw6bm9uZTtzdHJva2U6IzAwMDAwMDtzdHJva2Utd2lkdGg6NDtzdHJva2UtbGluZWNhcDpidXR0O3N0cm9rZS1saW5lam9pbjpyb3VuZDtzdHJva2UtbWl0ZXJsaW1pdDoxMDtzdHJva2UtZGFzaGFycmF5Om5vbmU7c3Ryb2tlLW9wYWNpdHk6MSIKICAgICAgICAgZD0ibSAxMTkxLjEzLDQwNC40NDkgMTkuMDcsNzEuMjg5IC00Ni41NywtMi44MDggeiIgLz48ZwogICAgICAgICB0cmFuc2Zvcm09InNjYWxlKDEwKSIKICAgICAgICAgaWQ9ImcxMTA2Ij48dGV4dAogICAgICAgICAgIGlkPSJ0ZXh0MTExMCIKICAgICAgICAgICBzdHlsZT0iZm9udC12YXJpYW50Om5vcm1hbDtmb250LXNpemU6OS45NjI2cHg7Zm9udC1mYW1pbHk6Zi00Oy1pbmtzY2FwZS1mb250LXNwZWNpZmljYXRpb246Zi00LTA7d3JpdGluZy1tb2RlOmxyLXRiO2ZpbGw6IzAwMDAwMDtmaWxsLW9wYWNpdHk6MTtmaWxsLXJ1bGU6bm9uemVybztzdHJva2U6bm9uZSIKICAgICAgICAgICB0cmFuc2Zvcm09Im1hdHJpeCgxLDAsMCwtMSw5Mi4xNzIzLDEwMC45MTIpIj48dHNwYW4KICAgICAgICAgICAgIGlkPSJ0c3BhbjExMDgiCiAgICAgICAgICAgICBzb2RpcG9kaTpyb2xlPSJsaW5lIgogICAgICAgICAgICAgeT0iMCIKICAgICAgICAgICAgIHg9IjAgNS4yMzAzNjQ4IDEwLjQ2MDczIDE1LjY5MTA5NSAyMC45MjE0NTkiPm5laWdoPC90c3Bhbj48L3RleHQ+PC9nPjxwYXRoCiAgICAgICAgIGlua3NjYXBlOmNvbm5lY3Rvci1jdXJ2YXR1cmU9IjAiCiAgICAgICAgIGlkPSJwYXRoMTExMiIKICAgICAgICAgc3R5bGU9ImZpbGw6bm9uZTtzdHJva2U6IzAwMDAwMDtzdHJva2Utd2lkdGg6My45ODtzdHJva2UtbGluZWNhcDpidXR0O3N0cm9rZS1saW5lam9pbjptaXRlcjtzdHJva2UtbWl0ZXJsaW1pdDoxMDtzdHJva2UtZGFzaGFycmF5Om5vbmU7c3Ryb2tlLW9wYWNpdHk6MSIKICAgICAgICAgZD0ibSAxMTg5LjUzLDEwMTEuMDkgaCAzMS4zNyIgLz48ZwogICAgICAgICB0cmFuc2Zvcm09InNjYWxlKDEwKSIKICAgICAgICAgaWQ9ImcxMTE0Ij48dGV4dAogICAgICAgICAgIGlkPSJ0ZXh0MTExOCIKICAgICAgICAgICBzdHlsZT0iZm9udC12YXJpYW50Om5vcm1hbDtmb250LXNpemU6OS45NjI2cHg7Zm9udC1mYW1pbHk6Zi00Oy1pbmtzY2FwZS1mb250LXNwZWNpZmljYXRpb246Zi00LTA7d3JpdGluZy1tb2RlOmxyLXRiO2ZpbGw6IzAwMDAwMDtmaWxsLW9wYWNpdHk6MTtmaWxsLXJ1bGU6bm9uemVybztzdHJva2U6bm9uZSIKICAgICAgICAgICB0cmFuc2Zvcm09Im1hdHJpeCgxLDAsMCwtMSwxMjIuMDkxLDEwMC45MTIpIj48dHNwYW4KICAgICAgICAgICAgIGlkPSJ0c3BhbjExMTYiCiAgICAgICAgICAgICBzb2RpcG9kaTpyb2xlPSJsaW5lIgogICAgICAgICAgICAgeT0iMCIKICAgICAgICAgICAgIHg9IjAgNS4yMzAzNjQ4IDEwLjQ2MDczIDE1LjY5MTA5NSAyMC45MjE0NTkiPnZhbHVlPC90c3Bhbj48L3RleHQ+PC9nPjwvZz48L2c+PC9zdmc+Cg==)"
   ]
  },
  {
   "cell_type": "markdown",
   "metadata": {
    "slideshow": {
     "slide_type": "fragment"
    }
   },
   "source": [
    "We just need to implement the \n",
    "\\begin{equation}\n",
    "    \\mathbf{G}_{\\frac{1}{2}}(\\mathbf{q}) = \n",
    "    \\left| \\mathbf{q}\\hat{\\mathbf{n}} \\right|_f S_f \\Rightarrow\n",
    "    \\left| \\varphi \\hat{\\mathbf{n}}\\right|_f S_f \n",
    "\\end{equation}"
   ]
  },
  {
   "cell_type": "code",
   "execution_count": 5,
   "metadata": {
    "slideshow": {
     "slide_type": "subslide"
    }
   },
   "outputs": [],
   "source": [
    "from josie.scheme.nonconservative import NonConservativeScheme\n",
    "\n",
    "NonConservativeScheme??"
   ]
  },
  {
   "cell_type": "code",
   "execution_count": 6,
   "metadata": {
    "slideshow": {
     "slide_type": "fragment"
    }
   },
   "outputs": [
    {
     "ename": "NameError",
     "evalue": "name 'MeshCellSet' is not defined",
     "output_type": "error",
     "traceback": [
      "\u001b[0;31m---------------------------------------------------------------------------\u001b[0m",
      "\u001b[0;31mNameError\u001b[0m                                 Traceback (most recent call last)",
      "Input \u001b[0;32mIn [6]\u001b[0m, in \u001b[0;36m<cell line: 1>\u001b[0;34m()\u001b[0m\n\u001b[0;32m----> 1\u001b[0m \u001b[38;5;28;01mclass\u001b[39;00m \u001b[38;5;21;01mUpwind\u001b[39;00m(NonConservativeScheme):\n\u001b[1;32m      2\u001b[0m     \u001b[38;5;28;01mdef\u001b[39;00m \u001b[38;5;21mG\u001b[39m(\u001b[38;5;28mself\u001b[39m, cells: MeshCellSet, neighs: CellSet):\n\u001b[1;32m      3\u001b[0m         V \u001b[38;5;241m=\u001b[39m \u001b[38;5;28mself\u001b[39m\u001b[38;5;241m.\u001b[39mproblem\u001b[38;5;241m.\u001b[39mV\n",
      "Input \u001b[0;32mIn [6]\u001b[0m, in \u001b[0;36mUpwind\u001b[0;34m()\u001b[0m\n\u001b[1;32m      1\u001b[0m \u001b[38;5;28;01mclass\u001b[39;00m \u001b[38;5;21;01mUpwind\u001b[39;00m(NonConservativeScheme):\n\u001b[0;32m----> 2\u001b[0m     \u001b[38;5;28;01mdef\u001b[39;00m \u001b[38;5;21mG\u001b[39m(\u001b[38;5;28mself\u001b[39m, cells: \u001b[43mMeshCellSet\u001b[49m, neighs: CellSet):\n\u001b[1;32m      3\u001b[0m         V \u001b[38;5;241m=\u001b[39m \u001b[38;5;28mself\u001b[39m\u001b[38;5;241m.\u001b[39mproblem\u001b[38;5;241m.\u001b[39mV\n\u001b[1;32m      5\u001b[0m         \u001b[38;5;66;03m# Get the normal velocities (that are equal everywhere) per each cell\u001b[39;00m\n",
      "\u001b[0;31mNameError\u001b[0m: name 'MeshCellSet' is not defined"
     ]
    }
   ],
   "source": [
    "from josie.mesh.cellset import MeshCellSet, CellSet\n",
    "class Upwind(NonConservativeScheme):\n",
    "    def G(self, cells: MeshCellSet, neighs: CellSet):\n",
    "        V = self.problem.V\n",
    "        \n",
    "        # Get the normal velocities (that are equal everywhere) per each cell\n",
    "        Vn = np.einsum(\"k,...k->...\", V, neighs.normals)[..., np.newaxis, np.newaxis]\n",
    "        \n",
    "        values_face = np.zeros_like(cells.values)\n",
    "        \n",
    "        \n",
    "        # We use the cell value where Vn > 0 \n",
    "        np.copyto(values_face, cells.values, where=(Vn>0))\n",
    "        \n",
    "        # We use the neighbour value otherwise\n",
    "        np.copyto(values_face, neighs.values, where=(Vn<=0))\n",
    "        \n",
    "        # Multiply by the normal \n",
    "        valuesn_face = np.einsum(\"...mk,...l->...mkl\", values_face, neighs.normals)\n",
    "        \n",
    "        # Multiply by the surface (applying broadcasting)\n",
    "        G = valuesn_face * neighs.surfaces[..., np.newaxis, np.newaxis, np.newaxis]\n",
    "        \n",
    "        \n",
    "        return G"
   ]
  },
  {
   "cell_type": "markdown",
   "metadata": {
    "slideshow": {
     "slide_type": "slide"
    }
   },
   "source": [
    "## `Mesh`\n",
    "We generated a 1D mesh"
   ]
  },
  {
   "cell_type": "code",
   "execution_count": null,
   "metadata": {
    "slideshow": {
     "slide_type": "fragment"
    }
   },
   "outputs": [],
   "source": [
    "from josie.boundary import Line\n",
    "\n",
    "left = Line([0, 0], [0, 1])\n",
    "bottom = Line([0, 0], [1, 0])\n",
    "right = Line([1, 0], [1, 1])\n",
    "top = Line([0, 1], [1, 1])"
   ]
  },
  {
   "cell_type": "markdown",
   "metadata": {
    "slideshow": {
     "slide_type": "fragment"
    }
   },
   "source": [
    "We apply periodic boundary condition along the x-axis (no BC on y-axis since it's a 1D simulation)"
   ]
  },
  {
   "cell_type": "code",
   "execution_count": null,
   "metadata": {
    "slideshow": {
     "slide_type": "fragment"
    }
   },
   "outputs": [],
   "source": [
    "from josie.bc import make_periodic, Direction\n",
    "\n",
    "left, right = make_periodic(left, right, Direction.X)\n",
    "top.bc = None\n",
    "bottom.bc = None\n",
    "\n",
    "print(left, right, top, bottom)"
   ]
  },
  {
   "cell_type": "code",
   "execution_count": null,
   "metadata": {
    "slideshow": {
     "slide_type": "subslide"
    }
   },
   "outputs": [],
   "source": [
    "from josie.mesh import Mesh\n",
    "from josie.mesh.cell import SimpleCell\n",
    "mesh = Mesh(left, bottom, right, top, SimpleCell)\n",
    "mesh.interpolate(300, 1)\n",
    "mesh.generate()"
   ]
  },
  {
   "cell_type": "markdown",
   "metadata": {
    "slideshow": {
     "slide_type": "slide"
    }
   },
   "source": [
    "## `Solver`\n",
    "\n",
    "Let's assemble our scheme, that still needs the time scheme, and a CFL method"
   ]
  },
  {
   "cell_type": "code",
   "execution_count": null,
   "metadata": {
    "slideshow": {
     "slide_type": "fragment"
    }
   },
   "outputs": [],
   "source": [
    "from josie.general.schemes.time import ExplicitEuler\n",
    "\n",
    "class AdvectionScheme(Upwind, ExplicitEuler):\n",
    "    def CFL(\n",
    "        self,\n",
    "        cells: MeshCellSet,\n",
    "        CFL_value: float,\n",
    "    ) -> float:\n",
    "\n",
    "        U_abs = np.linalg.norm(self.problem.V)\n",
    "        dx = np.min(cells.surfaces)\n",
    "\n",
    "        return CFL_value * dx / U_abs\n",
    "\n",
    "\n",
    "scheme = AdvectionScheme(AdvectionProblem())\n"
   ]
  },
  {
   "cell_type": "code",
   "execution_count": null,
   "metadata": {
    "slideshow": {
     "slide_type": "subslide"
    }
   },
   "outputs": [],
   "source": [
    "from josie.solver import Solver\n",
    "\n",
    "solver = Solver(mesh, AdvectionState, scheme)"
   ]
  },
  {
   "cell_type": "markdown",
   "metadata": {
    "slideshow": {
     "slide_type": "fragment"
    }
   },
   "source": [
    "We need now to define an initialization function to initialize the domain"
   ]
  },
  {
   "cell_type": "code",
   "execution_count": null,
   "metadata": {
    "slideshow": {
     "slide_type": "fragment"
    }
   },
   "outputs": [],
   "source": [
    "def init_fun(cells: MeshCellSet):\n",
    "    xc = cells.centroids[..., 0]\n",
    "\n",
    "    xc_r = np.where(xc >= 0.5)\n",
    "    xc_l = np.where(xc < 0.5)\n",
    "\n",
    "    cells.values[xc_r[0], xc_r[1], ...] = 1\n",
    "    cells.values[xc_l[0], xc_l[1], ...] = 0"
   ]
  },
  {
   "cell_type": "markdown",
   "metadata": {
    "slideshow": {
     "slide_type": "subslide"
    }
   },
   "source": [
    "### Run the simulation"
   ]
  },
  {
   "cell_type": "markdown",
   "metadata": {},
   "source": [
    "Let's initialize the solver state"
   ]
  },
  {
   "cell_type": "code",
   "execution_count": null,
   "metadata": {
    "slideshow": {
     "slide_type": "fragment"
    }
   },
   "outputs": [],
   "source": [
    "solver.init(init_fun)\n",
    "\n",
    "# Plotting stuff\n",
    "import matplotlib.pyplot as plt\n",
    "import copy\n",
    "\n",
    "from matplotlib.animation import ArtistAnimation\n",
    "solution = []\n",
    "\n",
    "t = 0\n",
    "final_time = 1\n",
    "CFL = 0.5"
   ]
  },
  {
   "cell_type": "markdown",
   "metadata": {
    "slideshow": {
     "slide_type": "subslide"
    }
   },
   "source": [
    "Let's iterate in time choosing a time-based writing strategy (save every $0.01s$) to memory"
   ]
  },
  {
   "cell_type": "code",
   "execution_count": null,
   "metadata": {
    "scrolled": true,
    "slideshow": {
     "slide_type": "fragment"
    },
    "tags": [
     "remove_output"
    ]
   },
   "outputs": [],
   "source": [
    "from josie.io.write.strategy import TimeStrategy\n",
    "from josie.io.write.writer import MemoryWriter \n",
    "\n",
    "strategy = TimeStrategy(dt_save=0.01)\n",
    "writer = MemoryWriter(strategy, solver, final_time, CFL)\n",
    "writer.solve()"
   ]
  },
  {
   "cell_type": "code",
   "execution_count": null,
   "metadata": {
    "slideshow": {
     "slide_type": "subslide"
    }
   },
   "outputs": [],
   "source": [
    "fig, ax = plt.subplots()\n",
    "ims = []\n",
    "\n",
    "for solution in writer.data:\n",
    "    cells = solution.mesh.cells\n",
    "    x = cells.centroids[..., 0]\n",
    "    x = x.reshape(x.size)\n",
    "    phi = cells.values[..., AdvectionFields.phi].ravel()\n",
    "    (im,) = ax.plot(x, phi, 'ko-')\n",
    "    ims.append([im])\n",
    "    \n",
    "    \n",
    "ani = ArtistAnimation(fig, ims, interval=50)"
   ]
  },
  {
   "cell_type": "code",
   "execution_count": null,
   "metadata": {},
   "outputs": [],
   "source": []
  }
 ],
 "metadata": {
  "celltoolbar": "Slideshow",
  "kernelspec": {
   "display_name": "Python 3 (ipykernel)",
   "language": "python",
   "name": "python3"
  },
  "language_info": {
   "codemirror_mode": {
    "name": "ipython",
    "version": 3
   },
   "file_extension": ".py",
   "mimetype": "text/x-python",
   "name": "python",
   "nbconvert_exporter": "python",
   "pygments_lexer": "ipython3",
   "version": "3.9.13"
  }
 },
 "nbformat": 4,
 "nbformat_minor": 4
}
